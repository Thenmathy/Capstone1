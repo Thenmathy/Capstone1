{
 "cells": [
  {
   "cell_type": "code",
   "execution_count": null,
   "id": "2c7b81b7",
   "metadata": {},
   "outputs": [
    {
     "name": "stderr",
     "output_type": "stream",
     "text": [
      "C:\\Users\\DELL\\AppData\\Local\\Temp\\ipykernel_4416\\278613763.py:8: DtypeWarning: Columns (10) have mixed types. Specify dtype option on import or set low_memory=False.\n",
      "  df_raw_traffic = pd.read_csv(r'C:\\Users\\DELL\\Desktop\\Capstone-1\\ṛaw traffic data.csv')\n"
     ]
    }
   ],
   "source": [
    "# STEP 1: Data Cleaning\n",
    "\n",
    "import pandas as pd\n",
    "import numpy as np\n",
    "\n",
    "# 1. Loading the raw CSV file\n",
    "raw_csv_path = \"ṛaw traffic data.csv\"\n",
    "df_raw_traffic = pd.read_csv(r'C:\\Users\\DELL\\Desktop\\Capstone-1\\ṛaw traffic data.csv')\n",
    "\n"
   ]
  },
  {
   "cell_type": "code",
   "execution_count": null,
   "id": "424a9138",
   "metadata": {},
   "outputs": [
    {
     "name": "stdout",
     "output_type": "stream",
     "text": [
      "✅ Cleaned data saved as NewCleaneddata.csv\n"
     ]
    }
   ],
   "source": [
    "# 2. Creating a new cleaned DataFrame to avoid confusion\n",
    "df_new_cleaned = df_raw_traffic.copy()\n",
    "\n",
    "# 3. Droping 'driver_age_raw' column\n",
    "df_new_cleaned.drop(columns=['driver_age_raw'], inplace=True)\n",
    "\n",
    "# 4. Converting 'stop_date' to datetime format\n",
    "df_new_cleaned['stop_date'] = pd.to_datetime(df_new_cleaned['stop_date'], errors='coerce')\n",
    "\n",
    "# 5. Converting 'stop_time' to Python time object\n",
    "df_new_cleaned['stop_time'] = pd.to_datetime(df_new_cleaned['stop_time'], format='%H:%M:%S', errors='coerce').dt.time\n",
    "\n",
    "# 6. Standardize text fields: strip spaces and apply title case\n",
    "text_columns = [\n",
    "    'country_name', 'driver_gender', 'driver_race',\n",
    "    'violation_raw', 'violation', 'search_type',\n",
    "    'stop_outcome', 'stop_duration'\n",
    "]\n",
    "\n",
    "for col in text_columns:\n",
    "    df_new_cleaned[col] = df_new_cleaned[col].astype(str).str.strip().str.title()\n",
    "\n",
    "# 7. Replacing empty strings with NaN\n",
    "df_new_cleaned.replace(\"\", np.nan, inplace=True)\n",
    "\n",
    "# 8. Droping duplicate rows\n",
    "df_new_cleaned.drop_duplicates(inplace=True)\n",
    "\n",
    "# 9. Saving the cleaned DataFrame to a new CSV file\n",
    "cleaned_output_path = \"NewCleaneddata.csv\"\n",
    "df_new_cleaned.to_csv(cleaned_output_path, index=False)\n",
    "\n",
    "print(\"✅ Cleaned data saved as NewCleaneddata.csv\")\n"
   ]
  },
  {
   "cell_type": "code",
   "execution_count": 3,
   "id": "044e9679",
   "metadata": {},
   "outputs": [
    {
     "name": "stdout",
     "output_type": "stream",
     "text": [
      "<class 'pandas.core.frame.DataFrame'>\n",
      "RangeIndex: 65538 entries, 0 to 65537\n",
      "Data columns (total 15 columns):\n",
      " #   Column              Non-Null Count  Dtype         \n",
      "---  ------              --------------  -----         \n",
      " 0   stop_date           65538 non-null  datetime64[ns]\n",
      " 1   stop_time           65538 non-null  object        \n",
      " 2   country_name        65538 non-null  object        \n",
      " 3   driver_gender       65538 non-null  object        \n",
      " 4   driver_age          65538 non-null  int64         \n",
      " 5   driver_race         65538 non-null  object        \n",
      " 6   violation_raw       65538 non-null  object        \n",
      " 7   violation           65538 non-null  object        \n",
      " 8   search_conducted    65538 non-null  bool          \n",
      " 9   search_type         65538 non-null  object        \n",
      " 10  stop_outcome        65538 non-null  object        \n",
      " 11  is_arrested         65538 non-null  bool          \n",
      " 12  stop_duration       65538 non-null  object        \n",
      " 13  drugs_related_stop  65538 non-null  bool          \n",
      " 14  vehicle_number      65538 non-null  object        \n",
      "dtypes: bool(3), datetime64[ns](1), int64(1), object(10)\n",
      "memory usage: 6.2+ MB\n"
     ]
    }
   ],
   "source": [
    "df_new_cleaned.info() #after cleaning"
   ]
  },
  {
   "cell_type": "code",
   "execution_count": 4,
   "id": "ae64b222",
   "metadata": {},
   "outputs": [
    {
     "name": "stdout",
     "output_type": "stream",
     "text": [
      "<class 'pandas.core.frame.DataFrame'>\n",
      "RangeIndex: 65538 entries, 0 to 65537\n",
      "Data columns (total 16 columns):\n",
      " #   Column              Non-Null Count  Dtype \n",
      "---  ------              --------------  ----- \n",
      " 0   stop_date           65538 non-null  object\n",
      " 1   stop_time           65538 non-null  object\n",
      " 2   country_name        65538 non-null  object\n",
      " 3   driver_gender       65538 non-null  object\n",
      " 4   driver_age_raw      65538 non-null  int64 \n",
      " 5   driver_age          65538 non-null  int64 \n",
      " 6   driver_race         65538 non-null  object\n",
      " 7   violation_raw       65538 non-null  object\n",
      " 8   violation           65538 non-null  object\n",
      " 9   search_conducted    65538 non-null  bool  \n",
      " 10  search_type         43818 non-null  object\n",
      " 11  stop_outcome        65538 non-null  object\n",
      " 12  is_arrested         65538 non-null  bool  \n",
      " 13  stop_duration       65538 non-null  object\n",
      " 14  drugs_related_stop  65538 non-null  bool  \n",
      " 15  vehicle_number      65538 non-null  object\n",
      "dtypes: bool(3), int64(2), object(11)\n",
      "memory usage: 6.7+ MB\n"
     ]
    }
   ],
   "source": [
    "df_raw_traffic.info() # before cleaning"
   ]
  },
  {
   "cell_type": "code",
   "execution_count": null,
   "id": "46536054",
   "metadata": {},
   "outputs": [],
   "source": [
    "import mysql.connector\n",
    "\n",
    "# Connecting to MySQL server \n",
    "connection = mysql.connector.connect(\n",
    "    host=\"localhost\",\n",
    "    user=\"root\",\n",
    "    password=\"09876\"  \n",
    ")\n",
    "\n",
    "cursor = connection.cursor()\n",
    "\n",
    "# Creating database if not exists\n",
    "cursor.execute(\"CREATE DATABASE IF NOT EXISTS Secureledger\")\n",
    "cursor.execute(\"USE Secureledger;\")\n"
   ]
  },
  {
   "cell_type": "code",
   "execution_count": null,
   "id": "6c880874",
   "metadata": {},
   "outputs": [],
   "source": [
    "# Creating the 'policelog' table\n",
    "create_table_query = \"\"\"\n",
    "CREATE TABLE IF NOT EXISTS policelog (\n",
    "    stop_date DATE,\n",
    "    stop_time TIME,\n",
    "    country_name VARCHAR(50),\n",
    "    driver_gender VARCHAR(10),\n",
    "    driver_age INT,\n",
    "    driver_race VARCHAR(50),\n",
    "    violation_raw VARCHAR(100),\n",
    "    violation VARCHAR(100),\n",
    "    search_conducted BOOLEAN,\n",
    "    search_type VARCHAR(100),\n",
    "    stop_outcome VARCHAR(50),\n",
    "    is_arrested BOOLEAN,\n",
    "    stop_duration VARCHAR(20),\n",
    "    drugs_related_stop BOOLEAN,\n",
    "    vehicle_number VARCHAR(50)\n",
    ")\n",
    "\"\"\"\n",
    "cursor.execute(create_table_query)\n",
    "connection.commit()\n"
   ]
  },
  {
   "cell_type": "code",
   "execution_count": null,
   "id": "f372863d",
   "metadata": {},
   "outputs": [
    {
     "name": "stdout",
     "output_type": "stream",
     "text": [
      "✅ Data successfully inserted into Secureledger.policelog\n"
     ]
    }
   ],
   "source": [
    "import pandas as pd\n",
    "\n",
    "# Loading the cleaned CSV file\n",
    "data_to_insert = pd.read_csv(\"NewCleaneddata.csv\", parse_dates=['stop_date'])\n",
    "\n",
    "# Converting stop_time string to time object\n",
    "data_to_insert['stop_time'] = pd.to_datetime(data_to_insert['stop_time'], format='%H:%M:%S', errors='coerce').dt.time\n",
    "\n",
    "# Preparing SQL insert query\n",
    "insert_query = \"\"\"\n",
    "INSERT INTO policelog (\n",
    "    stop_date, stop_time, country_name, driver_gender, driver_age, driver_race,\n",
    "    violation_raw, violation, search_conducted, search_type, stop_outcome,\n",
    "    is_arrested, stop_duration, drugs_related_stop, vehicle_number\n",
    ") VALUES (%s, %s, %s, %s, %s, %s, %s, %s, %s, %s, %s, %s, %s, %s, %s)\n",
    "\"\"\"\n",
    "\n",
    "# Inserting each row\n",
    "for _, row in data_to_insert.iterrows():\n",
    "    values = tuple(row)\n",
    "    cursor.execute(insert_query, values)\n",
    "\n",
    "connection.commit()\n",
    "cursor.close()\n",
    "connection.close()\n",
    "\n",
    "print(\"✅ Data successfully inserted into Secureledger.policelog\")\n"
   ]
  },
  {
   "cell_type": "code",
   "execution_count": null,
   "id": "5e7ed059",
   "metadata": {},
   "outputs": [],
   "source": [
    "#SQL Queries#13/7/25"
   ]
  },
  {
   "cell_type": "code",
   "execution_count": 10,
   "id": "2ed7f760",
   "metadata": {},
   "outputs": [
    {
     "name": "stdout",
     "output_type": "stream",
     "text": [
      "Collecting tabulate\n",
      "  Using cached tabulate-0.9.0-py3-none-any.whl.metadata (34 kB)\n",
      "Using cached tabulate-0.9.0-py3-none-any.whl (35 kB)\n",
      "Installing collected packages: tabulate\n",
      "Successfully installed tabulate-0.9.0\n"
     ]
    }
   ],
   "source": [
    "!pip install tabulate"
   ]
  },
  {
   "cell_type": "code",
   "execution_count": null,
   "id": "f8689692",
   "metadata": {},
   "outputs": [],
   "source": [
    "import mysql.connector\n",
    "from tabulate import tabulate\n",
    "\n",
    "# Connecting to MySQL once\n",
    "conn = mysql.connector.connect(\n",
    "    host=\"localhost\",\n",
    "    user=\"root\",\n",
    "    password=\"09876\",\n",
    "    database=\"Secureledger\"\n",
    ")\n",
    "cursor = conn.cursor()"
   ]
  },
  {
   "cell_type": "code",
   "execution_count": null,
   "id": "f594083b",
   "metadata": {},
   "outputs": [
    {
     "name": "stdout",
     "output_type": "stream",
     "text": [
      "+------------------+-------------------+\n",
      "| Vehicle Number   |   Drug Stop Count |\n",
      "+==================+===================+\n",
      "| UP76DY3473       |                 1 |\n",
      "+------------------+-------------------+\n",
      "| RJ83PZ4441       |                 1 |\n",
      "+------------------+-------------------+\n",
      "| RJ32OM7264       |                 1 |\n",
      "+------------------+-------------------+\n",
      "| RJ76TI3807       |                 1 |\n",
      "+------------------+-------------------+\n",
      "| DL75KZ7835       |                 1 |\n",
      "+------------------+-------------------+\n",
      "| DL50PO5101       |                 1 |\n",
      "+------------------+-------------------+\n",
      "| UP67CQ9426       |                 1 |\n",
      "+------------------+-------------------+\n",
      "| KA61JB1004       |                 1 |\n",
      "+------------------+-------------------+\n",
      "| WB70IV9884       |                 1 |\n",
      "+------------------+-------------------+\n",
      "| WB75TF1052       |                 1 |\n",
      "+------------------+-------------------+\n"
     ]
    }
   ],
   "source": [
    "# ✅ Query 1 – Vehicle-Based\n",
    "# What are the top 10 vehicle_Number involved in drug-related stops?\n",
    "cursor.execute(\"\"\"\n",
    "SELECT vehicle_number, COUNT(*) AS drug_stop_count\n",
    "FROM policelog\n",
    "WHERE drugs_related_stop = TRUE\n",
    "GROUP BY vehicle_number\n",
    "ORDER BY drug_stop_count DESC\n",
    "LIMIT 10;\n",
    "\"\"\")\n",
    "results = cursor.fetchall()\n",
    "headers = [\"Vehicle Number\", \"Drug Stop Count\"]\n",
    "print(tabulate(results, headers=headers, tablefmt=\"grid\"))\n"
   ]
  },
  {
   "cell_type": "code",
   "execution_count": null,
   "id": "bd1765e6",
   "metadata": {},
   "outputs": [
    {
     "name": "stdout",
     "output_type": "stream",
     "text": [
      "+------------------+----------------+\n",
      "| Vehicle Number   |   Search Count |\n",
      "+==================+================+\n",
      "| UP76DY3473       |              1 |\n",
      "+------------------+----------------+\n",
      "| RJ76TI3807       |              1 |\n",
      "+------------------+----------------+\n",
      "| MH89ZF7676       |              1 |\n",
      "+------------------+----------------+\n",
      "| DL50PO5101       |              1 |\n",
      "+------------------+----------------+\n",
      "| KA79RD2271       |              1 |\n",
      "+------------------+----------------+\n",
      "| WB75TF1052       |              1 |\n",
      "+------------------+----------------+\n",
      "| UP82DB7554       |              1 |\n",
      "+------------------+----------------+\n",
      "| MH15GS2782       |              1 |\n",
      "+------------------+----------------+\n",
      "| MH80WR1351       |              1 |\n",
      "+------------------+----------------+\n",
      "| WB35BJ2947       |              1 |\n",
      "+------------------+----------------+\n"
     ]
    }
   ],
   "source": [
    "# ✅ Query 2 – Vehicle-Based\n",
    "#  Which vehicles were most frequently searched?\n",
    "cursor.execute(\"\"\"\n",
    "SELECT vehicle_number, COUNT(*) AS search_count\n",
    "FROM policelog\n",
    "WHERE search_conducted = TRUE\n",
    "GROUP BY vehicle_number\n",
    "ORDER BY search_count DESC\n",
    "LIMIT 10;\n",
    "\"\"\")\n",
    "results = cursor.fetchall()\n",
    "headers = [\"Vehicle Number\", \"Search Count\"]\n",
    "print(tabulate(results, headers=headers, tablefmt=\"grid\"))\n"
   ]
  },
  {
   "cell_type": "code",
   "execution_count": null,
   "id": "0347b316",
   "metadata": {},
   "outputs": [
    {
     "name": "stdout",
     "output_type": "stream",
     "text": [
      "+--------------+---------------+-----------------+-------------------+\n",
      "|   Driver Age |   Total Stops |   Total Arrests |   Arrest Rate (%) |\n",
      "+==============+===============+=================+===================+\n",
      "|           53 |          1025 |             548 |             53.46 |\n",
      "+--------------+---------------+-----------------+-------------------+\n",
      "|           26 |          1040 |             555 |             53.37 |\n",
      "+--------------+---------------+-----------------+-------------------+\n",
      "|           67 |           998 |             532 |             53.31 |\n",
      "+--------------+---------------+-----------------+-------------------+\n",
      "|           28 |          1100 |             580 |             52.73 |\n",
      "+--------------+---------------+-----------------+-------------------+\n",
      "|           18 |          1008 |             529 |             52.48 |\n",
      "+--------------+---------------+-----------------+-------------------+\n",
      "|           21 |          1051 |             549 |             52.24 |\n",
      "+--------------+---------------+-----------------+-------------------+\n",
      "|           76 |          1036 |             539 |             52.03 |\n",
      "+--------------+---------------+-----------------+-------------------+\n",
      "|           25 |          1033 |             537 |             51.98 |\n",
      "+--------------+---------------+-----------------+-------------------+\n",
      "|           19 |          1044 |             541 |             51.82 |\n",
      "+--------------+---------------+-----------------+-------------------+\n",
      "|           63 |          1062 |             550 |             51.79 |\n",
      "+--------------+---------------+-----------------+-------------------+\n"
     ]
    }
   ],
   "source": [
    "# ✅ Query 3 – Demographic-Based\n",
    "#  Which driver age group had the highest arrest rate?\n",
    "cursor.execute(\"\"\"\n",
    "SELECT driver_age, \n",
    "       COUNT(*) AS total_stops,\n",
    "       SUM(is_arrested) AS total_arrests,\n",
    "       ROUND(SUM(is_arrested)/COUNT(*) * 100, 2) AS arrest_rate\n",
    "FROM policelog\n",
    "GROUP BY driver_age\n",
    "HAVING COUNT(*) > 5\n",
    "ORDER BY arrest_rate DESC\n",
    "LIMIT 10;\n",
    "\"\"\")\n",
    "results = cursor.fetchall()\n",
    "headers = [\"Driver Age\", \"Total Stops\", \"Total Arrests\", \"Arrest Rate (%)\"]\n",
    "print(tabulate(results, headers=headers, tablefmt=\"grid\"))\n"
   ]
  },
  {
   "cell_type": "code",
   "execution_count": null,
   "id": "506b8039",
   "metadata": {},
   "outputs": [
    {
     "name": "stdout",
     "output_type": "stream",
     "text": [
      "+-----------+----------+--------------+\n",
      "| Country   | Gender   |   Stop Count |\n",
      "+===========+==========+==============+\n",
      "| Canada    | F        |        10997 |\n",
      "+-----------+----------+--------------+\n",
      "| Canada    | M        |        10911 |\n",
      "+-----------+----------+--------------+\n",
      "| India     | F        |        11043 |\n",
      "+-----------+----------+--------------+\n",
      "| India     | M        |        10955 |\n",
      "+-----------+----------+--------------+\n",
      "| Usa       | F        |        10841 |\n",
      "+-----------+----------+--------------+\n",
      "| Usa       | M        |        10791 |\n",
      "+-----------+----------+--------------+\n"
     ]
    }
   ],
   "source": [
    "# ✅ Query 4 – Demographic-Based\n",
    "# What is the gender distribution of drivers stopped in each country?\n",
    "cursor.execute(\"\"\"\n",
    "SELECT country_name, driver_gender, COUNT(*) AS count\n",
    "FROM policelog\n",
    "GROUP BY country_name, driver_gender\n",
    "ORDER BY country_name;\n",
    "\"\"\")\n",
    "results = cursor.fetchall()\n",
    "headers = [\"Country\", \"Gender\", \"Stop Count\"]\n",
    "print(tabulate(results, headers=headers, tablefmt=\"grid\"))\n"
   ]
  },
  {
   "cell_type": "code",
   "execution_count": null,
   "id": "68f4dd69",
   "metadata": {},
   "outputs": [
    {
     "name": "stdout",
     "output_type": "stream",
     "text": [
      "+----------+----------+---------------+------------+-------------------+\n",
      "| Race     | Gender   |   Total Stops |   Searches |   Search Rate (%) |\n",
      "+==========+==========+===============+============+===================+\n",
      "| Asian    | F        |          6649 |       3410 |             51.29 |\n",
      "+----------+----------+---------------+------------+-------------------+\n",
      "| Hispanic | F        |          6567 |       3326 |             50.65 |\n",
      "+----------+----------+---------------+------------+-------------------+\n",
      "| Other    | F        |          6524 |       3294 |             50.49 |\n",
      "+----------+----------+---------------+------------+-------------------+\n",
      "| Asian    | M        |          6462 |       3239 |             50.12 |\n",
      "+----------+----------+---------------+------------+-------------------+\n",
      "| Hispanic | M        |          6439 |       3212 |             49.88 |\n",
      "+----------+----------+---------------+------------+-------------------+\n",
      "| White    | M        |          6546 |       3262 |             49.83 |\n",
      "+----------+----------+---------------+------------+-------------------+\n",
      "| Black    | M        |          6612 |       3265 |             49.38 |\n",
      "+----------+----------+---------------+------------+-------------------+\n",
      "| White    | F        |          6622 |       3257 |             49.18 |\n",
      "+----------+----------+---------------+------------+-------------------+\n",
      "| Other    | M        |          6598 |       3238 |             49.08 |\n",
      "+----------+----------+---------------+------------+-------------------+\n",
      "| Black    | F        |          6519 |       3198 |             49.06 |\n",
      "+----------+----------+---------------+------------+-------------------+\n"
     ]
    }
   ],
   "source": [
    "# ✅ Query 5 – Demographic-Based\n",
    "#  Which race and gender combination has the highest search rate?\n",
    "cursor.execute(\"\"\"\n",
    "SELECT driver_race, driver_gender, \n",
    "       COUNT(*) AS total_stops,\n",
    "       SUM(search_conducted = TRUE) AS total_searches,\n",
    "       ROUND(SUM(search_conducted = TRUE)/COUNT(*) * 100, 2) AS search_rate\n",
    "FROM policelog\n",
    "GROUP BY driver_race, driver_gender\n",
    "HAVING COUNT(*) > 5\n",
    "ORDER BY search_rate DESC\n",
    "LIMIT 10;\n",
    "\"\"\")\n",
    "results = cursor.fetchall()\n",
    "headers = [\"Race\", \"Gender\", \"Total Stops\", \"Searches\", \"Search Rate (%)\"]\n",
    "print(tabulate(results, headers=headers, tablefmt=\"grid\"))\n"
   ]
  },
  {
   "cell_type": "code",
   "execution_count": null,
   "id": "558651ba",
   "metadata": {},
   "outputs": [
    {
     "name": "stdout",
     "output_type": "stream",
     "text": [
      "+--------+--------------+\n",
      "|   Hour |   Stop Count |\n",
      "+========+==============+\n",
      "|      0 |         2760 |\n",
      "+--------+--------------+\n",
      "|      1 |         2760 |\n",
      "+--------+--------------+\n",
      "|      2 |         2760 |\n",
      "+--------+--------------+\n",
      "|      3 |         2760 |\n",
      "+--------+--------------+\n",
      "|      4 |         2760 |\n",
      "+--------+--------------+\n",
      "|      5 |         2760 |\n",
      "+--------+--------------+\n",
      "|      6 |         2760 |\n",
      "+--------+--------------+\n",
      "|      7 |         2760 |\n",
      "+--------+--------------+\n",
      "|      8 |         2760 |\n",
      "+--------+--------------+\n",
      "|      9 |         2760 |\n",
      "+--------+--------------+\n",
      "|     10 |         2760 |\n",
      "+--------+--------------+\n",
      "|     11 |         2760 |\n",
      "+--------+--------------+\n",
      "|     12 |         2718 |\n",
      "+--------+--------------+\n",
      "|     13 |         2700 |\n",
      "+--------+--------------+\n",
      "|     14 |         2700 |\n",
      "+--------+--------------+\n",
      "|     15 |         2700 |\n",
      "+--------+--------------+\n",
      "|     16 |         2700 |\n",
      "+--------+--------------+\n",
      "|     17 |         2700 |\n",
      "+--------+--------------+\n",
      "|     18 |         2700 |\n",
      "+--------+--------------+\n",
      "|     19 |         2700 |\n",
      "+--------+--------------+\n",
      "|     20 |         2700 |\n",
      "+--------+--------------+\n",
      "|     21 |         2700 |\n",
      "+--------+--------------+\n",
      "|     22 |         2700 |\n",
      "+--------+--------------+\n",
      "|     23 |         2700 |\n",
      "+--------+--------------+\n"
     ]
    }
   ],
   "source": [
    "# ✅ Query 6 – Time-Based\n",
    "#  What time of day sees the most traffic stops?\n",
    "cursor.execute(\"\"\"\n",
    "SELECT HOUR(stop_time) AS hour_of_day, COUNT(*) AS stop_count\n",
    "FROM policelog\n",
    "GROUP BY hour_of_day\n",
    "ORDER BY stop_count DESC;\n",
    "\"\"\")\n",
    "results = cursor.fetchall()\n",
    "headers = [\"Hour\", \"Stop Count\"]\n",
    "print(tabulate(results, headers=headers, tablefmt=\"grid\"))\n"
   ]
  },
  {
   "cell_type": "code",
   "execution_count": null,
   "id": "b789fdec",
   "metadata": {},
   "outputs": [
    {
     "name": "stdout",
     "output_type": "stream",
     "text": [
      "+-------------+----------------------+\n",
      "| Violation   |   Avg Duration (min) |\n",
      "+=============+======================+\n",
      "| Other       |              25.5531 |\n",
      "+-------------+----------------------+\n",
      "| Seatbelt    |              25.0068 |\n",
      "+-------------+----------------------+\n",
      "| Speeding    |              24.9209 |\n",
      "+-------------+----------------------+\n",
      "| Dui         |              24.8842 |\n",
      "+-------------+----------------------+\n",
      "| Signal      |              24.8377 |\n",
      "+-------------+----------------------+\n"
     ]
    }
   ],
   "source": [
    "# ✅ Query 7 – Time-Based\n",
    "# What is the average stop duration for different violations?\n",
    "cursor.execute(\"\"\"\n",
    "SELECT violation, AVG(CASE\n",
    "    WHEN stop_duration = '0-15 Min' THEN 7\n",
    "    WHEN stop_duration = '16-30 Min' THEN 23\n",
    "    WHEN stop_duration = '30+ Min' THEN 45\n",
    "    ELSE 0 END) AS avg_duration_est\n",
    "FROM policelog\n",
    "GROUP BY violation\n",
    "ORDER BY avg_duration_est DESC;\n",
    "\"\"\")\n",
    "results = cursor.fetchall()\n",
    "headers = [\"Violation\", \"Avg Duration (min)\"]\n",
    "print(tabulate(results, headers=headers, tablefmt=\"grid\"))\n"
   ]
  },
  {
   "cell_type": "code",
   "execution_count": null,
   "id": "35dfc00a",
   "metadata": {},
   "outputs": [
    {
     "name": "stdout",
     "output_type": "stream",
     "text": [
      "+---------------+---------------+-----------------+-------------------+\n",
      "| Time Period   |   Total Stops |   Total Arrests |   Arrest Rate (%) |\n",
      "+===============+===============+=================+===================+\n",
      "| Night         |         16560 |            8151 |             49.22 |\n",
      "+---------------+---------------+-----------------+-------------------+\n",
      "| Day           |         32778 |           16557 |             50.51 |\n",
      "+---------------+---------------+-----------------+-------------------+\n",
      "| Evening       |         16200 |            8138 |             50.23 |\n",
      "+---------------+---------------+-----------------+-------------------+\n"
     ]
    }
   ],
   "source": [
    "# ✅ Query 8 – Time-Based\n",
    "#  Are stops during the night more likely to lead to arrests?\n",
    "cursor.execute(\"\"\"\n",
    "SELECT \n",
    "  CASE \n",
    "    WHEN HOUR(stop_time) BETWEEN 0 AND 5 THEN 'Night'\n",
    "    WHEN HOUR(stop_time) BETWEEN 6 AND 17 THEN 'Day'\n",
    "    ELSE 'Evening'\n",
    "  END AS time_period,\n",
    "  COUNT(*) AS total_stops,\n",
    "  SUM(is_arrested) AS total_arrests,\n",
    "  ROUND(SUM(is_arrested)/COUNT(*) * 100, 2) AS arrest_rate\n",
    "FROM policelog\n",
    "GROUP BY time_period;\n",
    "\"\"\")\n",
    "results = cursor.fetchall()\n",
    "headers = [\"Time Period\", \"Total Stops\", \"Total Arrests\", \"Arrest Rate (%)\"]\n",
    "print(tabulate(results, headers=headers, tablefmt=\"grid\"))\n"
   ]
  },
  {
   "cell_type": "code",
   "execution_count": null,
   "id": "def06818",
   "metadata": {},
   "outputs": [
    {
     "name": "stdout",
     "output_type": "stream",
     "text": [
      "+-------------+---------------+------------+-----------+\n",
      "| Violation   |   Total Stops |   Searches |   Arrests |\n",
      "+=============+===============+============+===========+\n",
      "| Dui         |         13075 |       6481 |      6610 |\n",
      "+-------------+---------------+------------+-----------+\n",
      "| Speeding    |         13150 |       6573 |      6598 |\n",
      "+-------------+---------------+------------+-----------+\n",
      "| Seatbelt    |         13007 |       6562 |      6573 |\n",
      "+-------------+---------------+------------+-----------+\n",
      "| Signal      |         13112 |       6509 |      6549 |\n",
      "+-------------+---------------+------------+-----------+\n",
      "| Other       |         13194 |       6576 |      6516 |\n",
      "+-------------+---------------+------------+-----------+\n"
     ]
    }
   ],
   "source": [
    "# ✅ Query 9 – Violation-Based\n",
    "#  Which violations are most associated with searches or arrests?\n",
    "cursor.execute(\"\"\"\n",
    "SELECT violation,\n",
    "       COUNT(*) AS total_stops,\n",
    "       SUM(search_conducted) AS total_searches,\n",
    "       SUM(is_arrested) AS total_arrests\n",
    "FROM policelog\n",
    "GROUP BY violation\n",
    "ORDER BY total_arrests DESC\n",
    "LIMIT 10;\n",
    "\"\"\")\n",
    "results = cursor.fetchall()\n",
    "headers = [\"Violation\", \"Total Stops\", \"Searches\", \"Arrests\"]\n",
    "print(tabulate(results, headers=headers, tablefmt=\"grid\"))\n"
   ]
  },
  {
   "cell_type": "code",
   "execution_count": null,
   "id": "14aaac34",
   "metadata": {},
   "outputs": [
    {
     "name": "stdout",
     "output_type": "stream",
     "text": [
      "+-------------+---------+\n",
      "| Violation   |   Count |\n",
      "+=============+=========+\n",
      "| Speeding    |    1476 |\n",
      "+-------------+---------+\n",
      "| Signal      |    1427 |\n",
      "+-------------+---------+\n",
      "| Other       |    1422 |\n",
      "+-------------+---------+\n",
      "| Seatbelt    |    1420 |\n",
      "+-------------+---------+\n",
      "| Dui         |    1359 |\n",
      "+-------------+---------+\n"
     ]
    }
   ],
   "source": [
    "# ✅ Query 10 – Violation-Based\n",
    "#  Which violations are most common among younger drivers (<25)?\n",
    "cursor.execute(\"\"\"\n",
    "SELECT violation, COUNT(*) AS count\n",
    "FROM policelog\n",
    "WHERE driver_age < 25\n",
    "GROUP BY violation\n",
    "ORDER BY count DESC\n",
    "LIMIT 10;\n",
    "\"\"\")\n",
    "results = cursor.fetchall()\n",
    "headers = [\"Violation\", \"Count\"]\n",
    "print(tabulate(results, headers=headers, tablefmt=\"grid\"))\n"
   ]
  },
  {
   "cell_type": "code",
   "execution_count": null,
   "id": "0e9d758d",
   "metadata": {},
   "outputs": [
    {
     "name": "stdout",
     "output_type": "stream",
     "text": [
      "+-------------+---------------+------------+-----------+\n",
      "| Violation   | Total Stops   | Searches   | Arrests   |\n",
      "+=============+===============+============+===========+\n",
      "+-------------+---------------+------------+-----------+\n"
     ]
    }
   ],
   "source": [
    "# ✅ Query 11 – Violation-Based\n",
    "#  Is there a violation that rarely results in search or arrest?\n",
    "cursor.execute(\"\"\"\n",
    "SELECT violation,\n",
    "       COUNT(*) AS total_stops,\n",
    "       SUM(search_conducted) AS total_searches,\n",
    "       SUM(is_arrested) AS total_arrests\n",
    "FROM policelog\n",
    "GROUP BY violation\n",
    "HAVING total_searches = 0 AND total_arrests = 0;\n",
    "\"\"\")\n",
    "results = cursor.fetchall()\n",
    "headers = [\"Violation\", \"Total Stops\", \"Searches\", \"Arrests\"]\n",
    "print(tabulate(results, headers=headers, tablefmt=\"grid\"))\n"
   ]
  },
  {
   "cell_type": "code",
   "execution_count": null,
   "id": "8c550037",
   "metadata": {},
   "outputs": [
    {
     "name": "stdout",
     "output_type": "stream",
     "text": [
      "+-----------+---------------+--------------+----------------------+\n",
      "| Country   |   Total Stops |   Drug Stops |   Drug Stop Rate (%) |\n",
      "+===========+===============+==============+======================+\n",
      "| Usa       |         21632 |        10896 |                50.37 |\n",
      "+-----------+---------------+--------------+----------------------+\n",
      "| Canada    |         21908 |        10976 |                50.1  |\n",
      "+-----------+---------------+--------------+----------------------+\n",
      "| India     |         21998 |        10897 |                49.54 |\n",
      "+-----------+---------------+--------------+----------------------+\n"
     ]
    }
   ],
   "source": [
    "# ✅ Query 12 – Location-Based\n",
    "#  Which countries report the highest rate of drug-related stops?\n",
    "cursor.execute(\"\"\"\n",
    "SELECT country_name,\n",
    "       COUNT(*) AS total_stops,\n",
    "       SUM(drugs_related_stop = TRUE) AS drug_stops,\n",
    "       ROUND(SUM(drugs_related_stop = TRUE)/COUNT(*) * 100, 2) AS drug_stop_rate\n",
    "FROM policelog\n",
    "GROUP BY country_name\n",
    "ORDER BY drug_stop_rate DESC\n",
    "LIMIT 10;\n",
    "\"\"\")\n",
    "results = cursor.fetchall()\n",
    "headers = [\"Country\", \"Total Stops\", \"Drug Stops\", \"Drug Stop Rate (%)\"]\n",
    "print(tabulate(results, headers=headers, tablefmt=\"grid\"))\n"
   ]
  },
  {
   "cell_type": "code",
   "execution_count": null,
   "id": "cb4a7b3d",
   "metadata": {},
   "outputs": [
    {
     "name": "stdout",
     "output_type": "stream",
     "text": [
      "+-----------+-------------+---------------+-----------------+-------------------+\n",
      "| Country   | Violation   |   Total Stops |   Total Arrests |   Arrest Rate (%) |\n",
      "+===========+=============+===============+=================+===================+\n",
      "| Canada    | Dui         |          4414 |            2257 |             51.13 |\n",
      "+-----------+-------------+---------------+-----------------+-------------------+\n",
      "| India     | Dui         |          4420 |            2247 |             50.84 |\n",
      "+-----------+-------------+---------------+-----------------+-------------------+\n",
      "| India     | Speeding    |          4358 |            2212 |             50.76 |\n",
      "+-----------+-------------+---------------+-----------------+-------------------+\n",
      "| India     | Signal      |          4444 |            2251 |             50.65 |\n",
      "+-----------+-------------+---------------+-----------------+-------------------+\n",
      "| Usa       | Seatbelt    |          4241 |            2145 |             50.58 |\n",
      "+-----------+-------------+---------------+-----------------+-------------------+\n",
      "| India     | Seatbelt    |          4345 |            2197 |             50.56 |\n",
      "+-----------+-------------+---------------+-----------------+-------------------+\n",
      "| Canada    | Seatbelt    |          4421 |            2231 |             50.46 |\n",
      "+-----------+-------------+---------------+-----------------+-------------------+\n",
      "| Canada    | Other       |          4371 |            2198 |             50.29 |\n",
      "+-----------+-------------+---------------+-----------------+-------------------+\n",
      "| Usa       | Signal      |          4341 |            2170 |             49.99 |\n",
      "+-----------+-------------+---------------+-----------------+-------------------+\n",
      "| Canada    | Speeding    |          4375 |            2185 |             49.94 |\n",
      "+-----------+-------------+---------------+-----------------+-------------------+\n",
      "| Usa       | Speeding    |          4417 |            2201 |             49.83 |\n",
      "+-----------+-------------+---------------+-----------------+-------------------+\n",
      "| Usa       | Dui         |          4241 |            2106 |             49.66 |\n",
      "+-----------+-------------+---------------+-----------------+-------------------+\n",
      "| India     | Other       |          4431 |            2184 |             49.29 |\n",
      "+-----------+-------------+---------------+-----------------+-------------------+\n",
      "| Canada    | Signal      |          4327 |            2128 |             49.18 |\n",
      "+-----------+-------------+---------------+-----------------+-------------------+\n",
      "| Usa       | Other       |          4392 |            2134 |             48.59 |\n",
      "+-----------+-------------+---------------+-----------------+-------------------+\n"
     ]
    }
   ],
   "source": [
    "# ✅ Query 13 – Location-Based\n",
    "#  What is the arrest rate by country and violation?\n",
    "cursor.execute(\"\"\"\n",
    "SELECT country_name, violation,\n",
    "       COUNT(*) AS total_stops,\n",
    "       SUM(is_arrested) AS total_arrests,\n",
    "       ROUND(SUM(is_arrested)/COUNT(*) * 100, 2) AS arrest_rate\n",
    "FROM policelog\n",
    "GROUP BY country_name, violation\n",
    "ORDER BY arrest_rate DESC\n",
    "LIMIT 15;\n",
    "\"\"\")\n",
    "results = cursor.fetchall()\n",
    "headers = [\"Country\", \"Violation\", \"Total Stops\", \"Total Arrests\", \"Arrest Rate (%)\"]\n",
    "print(tabulate(results, headers=headers, tablefmt=\"grid\"))\n"
   ]
  },
  {
   "cell_type": "code",
   "execution_count": null,
   "id": "a38c0c30",
   "metadata": {},
   "outputs": [
    {
     "name": "stdout",
     "output_type": "stream",
     "text": [
      "+-----------+----------------+\n",
      "| Country   |   Search Count |\n",
      "+===========+================+\n",
      "| Canada    |          11020 |\n",
      "+-----------+----------------+\n",
      "| India     |          10959 |\n",
      "+-----------+----------------+\n",
      "| Usa       |          10722 |\n",
      "+-----------+----------------+\n"
     ]
    }
   ],
   "source": [
    "# ✅ Query 14 – Location-Based\n",
    "#  Which country has the most stops with search conducted?\n",
    "cursor.execute(\"\"\"\n",
    "SELECT country_name, COUNT(*) AS search_count\n",
    "FROM policelog\n",
    "WHERE search_conducted = TRUE\n",
    "GROUP BY country_name\n",
    "ORDER BY search_count DESC\n",
    "LIMIT 10;\n",
    "\"\"\")\n",
    "results = cursor.fetchall()\n",
    "headers = [\"Country\", \"Search Count\"]\n",
    "print(tabulate(results, headers=headers, tablefmt=\"grid\"))\n"
   ]
  },
  {
   "cell_type": "code",
   "execution_count": null,
   "id": "b1225b9c",
   "metadata": {},
   "outputs": [
    {
     "name": "stdout",
     "output_type": "stream",
     "text": [
      "+-----------+--------+---------------+-----------------+-------------------+-------------+\n",
      "| Country   |   Year |   Total Stops |   Total Arrests |   Arrest Rate (%) |   Year Rank |\n",
      "+===========+========+===============+=================+===================+=============+\n",
      "| Canada    |   2020 |         21908 |           10999 |             50.21 |           1 |\n",
      "+-----------+--------+---------------+-----------------+-------------------+-------------+\n",
      "| India     |   2020 |         21998 |           11091 |             50.42 |           1 |\n",
      "+-----------+--------+---------------+-----------------+-------------------+-------------+\n",
      "| Usa       |   2020 |         21632 |           10756 |             49.72 |           1 |\n",
      "+-----------+--------+---------------+-----------------+-------------------+-------------+\n"
     ]
    }
   ],
   "source": [
    "# ✅ Query 15 – Complex\n",
    "#  Yearly Breakdown of Stops and Arrests by Country (Using Subquery and Window Functions)\n",
    "cursor.execute(\"\"\"\n",
    "WITH yearly_counts AS (\n",
    "    SELECT country_name, YEAR(stop_date) AS year,\n",
    "           COUNT(*) AS total_stops,\n",
    "           SUM(is_arrested) AS total_arrests\n",
    "    FROM policelog\n",
    "    GROUP BY country_name, year\n",
    ")\n",
    "SELECT country_name, year, total_stops, total_arrests,\n",
    "       ROUND((total_arrests / total_stops) * 100, 2) AS arrest_rate,\n",
    "       RANK() OVER (PARTITION BY country_name ORDER BY year) AS year_rank\n",
    "FROM yearly_counts\n",
    "ORDER BY country_name, year;\n",
    "\"\"\")\n",
    "results = cursor.fetchall()\n",
    "headers = [\"Country\", \"Year\", \"Total Stops\", \"Total Arrests\", \"Arrest Rate (%)\", \"Year Rank\"]\n",
    "print(tabulate(results, headers=headers, tablefmt=\"grid\"))\n"
   ]
  },
  {
   "cell_type": "code",
   "execution_count": null,
   "id": "bd39ad0b",
   "metadata": {},
   "outputs": [
    {
     "name": "stdout",
     "output_type": "stream",
     "text": [
      "+--------------+--------+-------------+---------+\n",
      "|   Driver Age | Race   | Violation   |   Count |\n",
      "+==============+========+=============+=========+\n",
      "|           56 | White  | Dui         |      63 |\n",
      "+--------------+--------+-------------+---------+\n",
      "|           71 | Other  | Speeding    |      59 |\n",
      "+--------------+--------+-------------+---------+\n",
      "|           61 | White  | Dui         |      59 |\n",
      "+--------------+--------+-------------+---------+\n",
      "|           78 | Asian  | Dui         |      59 |\n",
      "+--------------+--------+-------------+---------+\n",
      "|           39 | White  | Other       |      58 |\n",
      "+--------------+--------+-------------+---------+\n",
      "|           54 | Black  | Other       |      58 |\n",
      "+--------------+--------+-------------+---------+\n",
      "|           33 | Other  | Speeding    |      58 |\n",
      "+--------------+--------+-------------+---------+\n",
      "|           70 | Black  | Dui         |      58 |\n",
      "+--------------+--------+-------------+---------+\n",
      "|           79 | Asian  | Other       |      58 |\n",
      "+--------------+--------+-------------+---------+\n",
      "|           46 | Other  | Dui         |      57 |\n",
      "+--------------+--------+-------------+---------+\n",
      "|           44 | Other  | Signal      |      57 |\n",
      "+--------------+--------+-------------+---------+\n",
      "|           26 | Black  | Signal      |      57 |\n",
      "+--------------+--------+-------------+---------+\n",
      "|           57 | White  | Other       |      57 |\n",
      "+--------------+--------+-------------+---------+\n",
      "|           63 | Black  | Other       |      57 |\n",
      "+--------------+--------+-------------+---------+\n",
      "|           19 | Black  | Speeding    |      56 |\n",
      "+--------------+--------+-------------+---------+\n"
     ]
    }
   ],
   "source": [
    "# ✅ Query 16 – Complex\n",
    "#  Driver Violation Trends Based on Age and Race (Join with Subquery)\n",
    "cursor.execute(\"\"\"\n",
    "WITH age_race_summary AS (\n",
    "    SELECT DISTINCT driver_age, driver_race\n",
    "    FROM policelog\n",
    "    WHERE driver_age IS NOT NULL AND driver_race IS NOT NULL\n",
    ")\n",
    "SELECT a.driver_age, a.driver_race, p.violation, COUNT(*) AS violation_count\n",
    "FROM age_race_summary a\n",
    "JOIN policelog p\n",
    "  ON a.driver_age = p.driver_age AND a.driver_race = p.driver_race\n",
    "GROUP BY a.driver_age, a.driver_race, p.violation\n",
    "ORDER BY violation_count DESC\n",
    "LIMIT 15;\n",
    "\"\"\")\n",
    "results = cursor.fetchall()\n",
    "headers = [\"Driver Age\", \"Race\", \"Violation\", \"Count\"]\n",
    "print(tabulate(results, headers=headers, tablefmt=\"grid\"))\n"
   ]
  },
  {
   "cell_type": "code",
   "execution_count": null,
   "id": "7037fa93",
   "metadata": {},
   "outputs": [
    {
     "name": "stdout",
     "output_type": "stream",
     "text": [
      "+--------+---------+--------+--------------+\n",
      "|   Year |   Month |   Hour |   Stop Count |\n",
      "+========+=========+========+==============+\n",
      "|   2020 |       1 |      0 |         1860 |\n",
      "+--------+---------+--------+--------------+\n",
      "|   2020 |       1 |      1 |         1860 |\n",
      "+--------+---------+--------+--------------+\n",
      "|   2020 |       1 |      2 |         1860 |\n",
      "+--------+---------+--------+--------------+\n",
      "|   2020 |       1 |      3 |         1860 |\n",
      "+--------+---------+--------+--------------+\n",
      "|   2020 |       1 |      4 |         1860 |\n",
      "+--------+---------+--------+--------------+\n",
      "|   2020 |       1 |      5 |         1860 |\n",
      "+--------+---------+--------+--------------+\n",
      "|   2020 |       1 |      6 |         1860 |\n",
      "+--------+---------+--------+--------------+\n",
      "|   2020 |       1 |      7 |         1860 |\n",
      "+--------+---------+--------+--------------+\n",
      "|   2020 |       1 |      8 |         1860 |\n",
      "+--------+---------+--------+--------------+\n",
      "|   2020 |       1 |      9 |         1860 |\n",
      "+--------+---------+--------+--------------+\n",
      "|   2020 |       1 |     10 |         1860 |\n",
      "+--------+---------+--------+--------------+\n",
      "|   2020 |       1 |     11 |         1860 |\n",
      "+--------+---------+--------+--------------+\n",
      "|   2020 |       1 |     12 |         1860 |\n",
      "+--------+---------+--------+--------------+\n",
      "|   2020 |       1 |     13 |         1860 |\n",
      "+--------+---------+--------+--------------+\n",
      "|   2020 |       1 |     14 |         1860 |\n",
      "+--------+---------+--------+--------------+\n",
      "|   2020 |       1 |     15 |         1860 |\n",
      "+--------+---------+--------+--------------+\n",
      "|   2020 |       1 |     16 |         1860 |\n",
      "+--------+---------+--------+--------------+\n",
      "|   2020 |       1 |     17 |         1860 |\n",
      "+--------+---------+--------+--------------+\n",
      "|   2020 |       1 |     18 |         1860 |\n",
      "+--------+---------+--------+--------------+\n",
      "|   2020 |       1 |     19 |         1860 |\n",
      "+--------+---------+--------+--------------+\n",
      "|   2020 |       1 |     20 |         1860 |\n",
      "+--------+---------+--------+--------------+\n",
      "|   2020 |       1 |     21 |         1860 |\n",
      "+--------+---------+--------+--------------+\n",
      "|   2020 |       1 |     22 |         1860 |\n",
      "+--------+---------+--------+--------------+\n",
      "|   2020 |       1 |     23 |         1860 |\n",
      "+--------+---------+--------+--------------+\n",
      "|   2020 |       2 |      0 |          900 |\n",
      "+--------+---------+--------+--------------+\n",
      "|   2020 |       2 |      1 |          900 |\n",
      "+--------+---------+--------+--------------+\n",
      "|   2020 |       2 |      2 |          900 |\n",
      "+--------+---------+--------+--------------+\n",
      "|   2020 |       2 |      3 |          900 |\n",
      "+--------+---------+--------+--------------+\n",
      "|   2020 |       2 |      4 |          900 |\n",
      "+--------+---------+--------+--------------+\n",
      "|   2020 |       2 |      5 |          900 |\n",
      "+--------+---------+--------+--------------+\n",
      "|   2020 |       2 |      6 |          900 |\n",
      "+--------+---------+--------+--------------+\n",
      "|   2020 |       2 |      7 |          900 |\n",
      "+--------+---------+--------+--------------+\n",
      "|   2020 |       2 |      8 |          900 |\n",
      "+--------+---------+--------+--------------+\n",
      "|   2020 |       2 |      9 |          900 |\n",
      "+--------+---------+--------+--------------+\n",
      "|   2020 |       2 |     10 |          900 |\n",
      "+--------+---------+--------+--------------+\n",
      "|   2020 |       2 |     11 |          900 |\n",
      "+--------+---------+--------+--------------+\n",
      "|   2020 |       2 |     12 |          858 |\n",
      "+--------+---------+--------+--------------+\n",
      "|   2020 |       2 |     13 |          840 |\n",
      "+--------+---------+--------+--------------+\n",
      "|   2020 |       2 |     14 |          840 |\n",
      "+--------+---------+--------+--------------+\n",
      "|   2020 |       2 |     15 |          840 |\n",
      "+--------+---------+--------+--------------+\n",
      "|   2020 |       2 |     16 |          840 |\n",
      "+--------+---------+--------+--------------+\n",
      "|   2020 |       2 |     17 |          840 |\n",
      "+--------+---------+--------+--------------+\n",
      "|   2020 |       2 |     18 |          840 |\n",
      "+--------+---------+--------+--------------+\n",
      "|   2020 |       2 |     19 |          840 |\n",
      "+--------+---------+--------+--------------+\n",
      "|   2020 |       2 |     20 |          840 |\n",
      "+--------+---------+--------+--------------+\n",
      "|   2020 |       2 |     21 |          840 |\n",
      "+--------+---------+--------+--------------+\n",
      "|   2020 |       2 |     22 |          840 |\n",
      "+--------+---------+--------+--------------+\n",
      "|   2020 |       2 |     23 |          840 |\n",
      "+--------+---------+--------+--------------+\n"
     ]
    }
   ],
   "source": [
    "# ✅ Query 17 – Complex\n",
    "#  Time Period Analysis of Stops (Joining with Date Functions)\n",
    "cursor.execute(\"\"\"\n",
    "WITH time_details AS (\n",
    "    SELECT stop_date, stop_time,\n",
    "           YEAR(stop_date) AS yr,\n",
    "           MONTH(stop_date) AS mnth,\n",
    "           HOUR(stop_time) AS hr\n",
    "    FROM policelog\n",
    "),\n",
    "date_summary AS (\n",
    "    SELECT yr, mnth, hr, COUNT(*) AS stop_count\n",
    "    FROM time_details\n",
    "    GROUP BY yr, mnth, hr\n",
    ")\n",
    "SELECT t.yr, t.mnth, t.hr, t.stop_count\n",
    "FROM date_summary t\n",
    "JOIN time_details td\n",
    "  ON YEAR(td.stop_date) = t.yr AND MONTH(td.stop_date) = t.mnth AND HOUR(td.stop_time) = t.hr\n",
    "GROUP BY t.yr, t.mnth, t.hr, t.stop_count\n",
    "ORDER BY t.yr, t.mnth, t.hr;\n",
    "\"\"\")\n",
    "results = cursor.fetchall()\n",
    "headers = [\"Year\", \"Month\", \"Hour\", \"Stop Count\"]\n",
    "print(tabulate(results, headers=headers, tablefmt=\"grid\"))\n"
   ]
  },
  {
   "cell_type": "code",
   "execution_count": null,
   "id": "62e3f3ca",
   "metadata": {},
   "outputs": [
    {
     "name": "stdout",
     "output_type": "stream",
     "text": [
      "+-------------+---------------+------------+-----------+-------------------+-------------------+\n",
      "| Violation   |   Total Stops |   Searches |   Arrests |   Search Rate (%) |   Arrest Rate (%) |\n",
      "+=============+===============+============+===========+===================+===================+\n",
      "| Dui         |         13075 |       6481 |      6610 |             49.57 |             50.55 |\n",
      "+-------------+---------------+------------+-----------+-------------------+-------------------+\n",
      "| Seatbelt    |         13007 |       6562 |      6573 |             50.45 |             50.53 |\n",
      "+-------------+---------------+------------+-----------+-------------------+-------------------+\n",
      "| Speeding    |         13150 |       6573 |      6598 |             49.98 |             50.17 |\n",
      "+-------------+---------------+------------+-----------+-------------------+-------------------+\n",
      "| Signal      |         13112 |       6509 |      6549 |             49.64 |             49.95 |\n",
      "+-------------+---------------+------------+-----------+-------------------+-------------------+\n",
      "| Other       |         13194 |       6576 |      6516 |             49.84 |             49.39 |\n",
      "+-------------+---------------+------------+-----------+-------------------+-------------------+\n"
     ]
    }
   ],
   "source": [
    "# ✅ Query 18 – Complex\n",
    "#  Violations with High Search and Arrest Rates (Window Function)\n",
    "cursor.execute(\"\"\"\n",
    "WITH violation_rates AS (\n",
    "    SELECT violation,\n",
    "           COUNT(*) AS total_stops,\n",
    "           SUM(search_conducted) AS total_searches,\n",
    "           SUM(is_arrested) AS total_arrests,\n",
    "           ROUND(SUM(search_conducted)/COUNT(*) * 100, 2) AS search_rate,\n",
    "           ROUND(SUM(is_arrested)/COUNT(*) * 100, 2) AS arrest_rate\n",
    "    FROM policelog\n",
    "    GROUP BY violation\n",
    "    HAVING COUNT(*) > 10\n",
    "),\n",
    "ranked_violations AS (\n",
    "    SELECT *,\n",
    "           RANK() OVER (ORDER BY arrest_rate DESC) AS arrest_rank\n",
    "    FROM violation_rates\n",
    ")\n",
    "SELECT violation, total_stops, total_searches, total_arrests, search_rate, arrest_rate\n",
    "FROM ranked_violations\n",
    "ORDER BY arrest_rank\n",
    "LIMIT 10;\n",
    "\"\"\")\n",
    "results = cursor.fetchall()\n",
    "headers = [\"Violation\", \"Total Stops\", \"Searches\", \"Arrests\", \"Search Rate (%)\", \"Arrest Rate (%)\"]\n",
    "print(tabulate(results, headers=headers, tablefmt=\"grid\"))\n"
   ]
  },
  {
   "cell_type": "code",
   "execution_count": null,
   "id": "f1fa2cf1",
   "metadata": {},
   "outputs": [
    {
     "name": "stdout",
     "output_type": "stream",
     "text": [
      "+-----------+-------+----------+----------+---------+\n",
      "| Country   |   Age | Gender   | Race     |   Count |\n",
      "+===========+=======+==========+==========+=========+\n",
      "| India     |    35 | F        | Asian    |      58 |\n",
      "+-----------+-------+----------+----------+---------+\n",
      "| India     |    23 | M        | Hispanic |      56 |\n",
      "+-----------+-------+----------+----------+---------+\n",
      "| Canada    |    32 | F        | White    |      54 |\n",
      "+-----------+-------+----------+----------+---------+\n",
      "| Usa       |    68 | F        | Black    |      53 |\n",
      "+-----------+-------+----------+----------+---------+\n",
      "| Usa       |    80 | F        | White    |      53 |\n",
      "+-----------+-------+----------+----------+---------+\n",
      "| India     |    57 | F        | Asian    |      52 |\n",
      "+-----------+-------+----------+----------+---------+\n",
      "| Usa       |    38 | F        | Asian    |      52 |\n",
      "+-----------+-------+----------+----------+---------+\n",
      "| Usa       |    44 | F        | Other    |      51 |\n",
      "+-----------+-------+----------+----------+---------+\n",
      "| Usa       |    65 | M        | Other    |      51 |\n",
      "+-----------+-------+----------+----------+---------+\n",
      "| India     |    46 | F        | Other    |      50 |\n",
      "+-----------+-------+----------+----------+---------+\n",
      "| Usa       |    70 | M        | Black    |      50 |\n",
      "+-----------+-------+----------+----------+---------+\n",
      "| India     |    28 | M        | White    |      49 |\n",
      "+-----------+-------+----------+----------+---------+\n",
      "| India     |    28 | F        | Asian    |      49 |\n",
      "+-----------+-------+----------+----------+---------+\n",
      "| India     |    78 | M        | Other    |      49 |\n",
      "+-----------+-------+----------+----------+---------+\n",
      "| India     |    26 | F        | Black    |      49 |\n",
      "+-----------+-------+----------+----------+---------+\n"
     ]
    }
   ],
   "source": [
    "# ✅ Query 19 – Complex\n",
    "#  Driver Demographics by Country (Age, Gender, and Race)\n",
    "cursor.execute(\"\"\"\n",
    "SELECT country_name, driver_age, driver_gender, driver_race, COUNT(*) AS count\n",
    "FROM policelog\n",
    "WHERE driver_age IS NOT NULL AND driver_gender IS NOT NULL AND driver_race IS NOT NULL\n",
    "GROUP BY country_name, driver_age, driver_gender, driver_race\n",
    "ORDER BY count DESC\n",
    "LIMIT 15;\n",
    "\"\"\")\n",
    "results = cursor.fetchall()\n",
    "headers = [\"Country\", \"Age\", \"Gender\", \"Race\", \"Count\"]\n",
    "print(tabulate(results, headers=headers, tablefmt=\"grid\"))\n"
   ]
  },
  {
   "cell_type": "code",
   "execution_count": null,
   "id": "6344a8a3",
   "metadata": {},
   "outputs": [
    {
     "name": "stdout",
     "output_type": "stream",
     "text": [
      "+-------------+---------------+-----------+-------------------+\n",
      "| Violation   |   Total Stops |   Arrests |   Arrest Rate (%) |\n",
      "+=============+===============+===========+===================+\n",
      "| Dui         |         13075 |      6610 |             50.55 |\n",
      "+-------------+---------------+-----------+-------------------+\n",
      "| Seatbelt    |         13007 |      6573 |             50.53 |\n",
      "+-------------+---------------+-----------+-------------------+\n",
      "| Speeding    |         13150 |      6598 |             50.17 |\n",
      "+-------------+---------------+-----------+-------------------+\n",
      "| Signal      |         13112 |      6549 |             49.95 |\n",
      "+-------------+---------------+-----------+-------------------+\n",
      "| Other       |         13194 |      6516 |             49.39 |\n",
      "+-------------+---------------+-----------+-------------------+\n"
     ]
    }
   ],
   "source": [
    "# ✅ Query 20 – Complex\n",
    "#  Top 5 Violations with Highest Arrest Rates\n",
    "cursor.execute(\"\"\"\n",
    "WITH arrest_stats AS (\n",
    "    SELECT violation,\n",
    "           COUNT(*) AS total_stops,\n",
    "           SUM(is_arrested) AS total_arrests,\n",
    "           ROUND(SUM(is_arrested)/COUNT(*) * 100, 2) AS arrest_rate\n",
    "    FROM policelog\n",
    "    GROUP BY violation\n",
    "    HAVING COUNT(*) > 10\n",
    "),\n",
    "ranked_arrests AS (\n",
    "    SELECT *,\n",
    "           RANK() OVER (ORDER BY arrest_rate DESC) AS rank_position\n",
    "    FROM arrest_stats\n",
    ")\n",
    "SELECT violation, total_stops, total_arrests, arrest_rate\n",
    "FROM ranked_arrests\n",
    "WHERE rank_position <= 5;\n",
    "\"\"\")\n",
    "results = cursor.fetchall()\n",
    "headers = [\"Violation\", \"Total Stops\", \"Arrests\", \"Arrest Rate (%)\"]\n",
    "print(tabulate(results, headers=headers, tablefmt=\"grid\"))\n"
   ]
  }
 ],
 "metadata": {
  "kernelspec": {
   "display_name": ".venv",
   "language": "python",
   "name": "python3"
  },
  "language_info": {
   "codemirror_mode": {
    "name": "ipython",
    "version": 3
   },
   "file_extension": ".py",
   "mimetype": "text/x-python",
   "name": "python",
   "nbconvert_exporter": "python",
   "pygments_lexer": "ipython3",
   "version": "3.13.3"
  }
 },
 "nbformat": 4,
 "nbformat_minor": 5
}
